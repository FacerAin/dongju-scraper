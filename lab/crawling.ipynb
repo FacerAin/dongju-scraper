{
 "cells": [
  {
   "cell_type": "code",
   "execution_count": 44,
   "metadata": {},
   "outputs": [],
   "source": [
    "import requests\n",
    "from bs4 import BeautifulSoup\n",
    "import time"
   ]
  },
  {
   "cell_type": "code",
   "execution_count": 46,
   "metadata": {},
   "outputs": [],
   "source": [
    "class Text:\n",
    "    def __init__(self, title, author, content):\n",
    "        self.title = title\n",
    "        self.author = author\n",
    "        self.content = content\n",
    "    \n",
    "    def get_title(self):\n",
    "        return self.title\n",
    "    \n",
    "    def get_author(self):\n",
    "        return self.author\n",
    "    \n",
    "    def get_content(self):\n",
    "        return self.content\n",
    "\n",
    "\n",
    "\n",
    "def get_response(url):\n",
    "    return requests.get(url)\n",
    "\n",
    "def get_page_url_list(start, end):\n",
    "    page_url_list = []\n",
    "    for i in range(start, end + 1):\n",
    "        page_url_list.append(\"http://poemlove.co.kr/bbs/board.php?bo_table=tb01&page=%d\" % (i))\n",
    "    return page_url_list\n",
    "\n",
    "\n",
    "def get_content_url_list(url):\n",
    "    response = get_response(url)\n",
    "    try:\n",
    "        content_url_list = []\n",
    "        if response.status_code == 200:\n",
    "            html = response.text\n",
    "            soup = BeautifulSoup(html, 'html.parser')\n",
    "            title_list = soup.select('#fboardlist > div.list-board > ul > li a')\n",
    "            for title in title_list:\n",
    "                href = title.attrs[\"href\"]\n",
    "                if(\"http://\" in href):\n",
    "                    content_url_list.append(href)\n",
    "        return content_url_list\n",
    "    except:\n",
    "        print('Error Occured: get_content_url_list()')\n",
    "\n",
    "def get_content_text(soup):\n",
    "    title = soup.select_one('body > div.at-body > div > div > div.col-md-9.pull-right.at-col.at-main > div.view-wrap > section > article > div:nth-child(4) > div.view-content')\n",
    "    return title.text\n",
    "\n",
    "def get_author_text(soup):\n",
    "    author = soup.select_one('body > div.at-body > div > div > div.col-md-9.pull-right.at-col.at-main > div.view-wrap > section > article > div:nth-child(3) > div > strong:nth-child(2)')\n",
    "    return author.text\n",
    "\n",
    "def get_title_text(soup):\n",
    "    title = soup.select_one('body > div.at-body > div > div > div.col-md-9.pull-right.at-col.at-main > div.view-wrap > section > article > h1')\n",
    "    return title.text\n",
    "\n",
    "def get_content_data(url):\n",
    "    response = get_response(url)\n",
    "    html = response.text\n",
    "    soup = BeautifulSoup(html, 'html.parser')\n",
    "    title = get_title_text(soup)\n",
    "    author = get_author_text(soup)\n",
    "    content = get_content_text(soup)\n",
    "    return Text(title,author,content)\n"
   ]
  },
  {
   "cell_type": "code",
   "execution_count": 47,
   "metadata": {},
   "outputs": [],
   "source": [
    "def get_text_list():\n",
    "    page_url_list = get_page_url_list(1, 3)\n",
    "\n",
    "    content_url_list = []\n",
    "    for page_url in page_url_list:\n",
    "        content_url_list.extend(get_content_url_list(page_url))\n",
    "        time.sleep(0.1)\n",
    "    \n",
    "    text_list = []\n",
    "    for content_url in content_url_list:\n",
    "        text_list.append(get_content_data(content_url))\n",
    "        if(len(text_list) % 10 == 0):\n",
    "            print(\"Get \" + str(len(text_list)) + \" data!\") \n",
    "        time.sleep(0.2)\n",
    "\n",
    "    print(\"Get \" + str(len(text_list)) + \" data!\")    \n",
    "    return text_list\n",
    "\n",
    "\n"
   ]
  },
  {
   "cell_type": "code",
   "execution_count": 48,
   "metadata": {},
   "outputs": [
    {
     "name": "stdout",
     "output_type": "stream",
     "text": [
      "Get 10 data!\n",
      "Get 20 data!\n",
      "Get 30 data!\n",
      "Get 40 data!\n",
      "Get 50 data!\n",
      "Get 60 data!\n",
      "Get 70 data!\n",
      "Get 78 data!\n"
     ]
    }
   ],
   "source": [
    "text_list = get_text_list()"
   ]
  },
  {
   "cell_type": "code",
   "execution_count": 49,
   "metadata": {},
   "outputs": [
    {
     "data": {
      "text/plain": "78"
     },
     "execution_count": 49,
     "metadata": {},
     "output_type": "execute_result"
    }
   ],
   "source": [
    "len(text_list)"
   ]
  },
  {
   "cell_type": "code",
   "execution_count": 56,
   "metadata": {},
   "outputs": [
    {
     "data": {
      "text/plain": "'\\n\\t\\t\\t가시고기 사랑\\t\\t'"
     },
     "execution_count": 56,
     "metadata": {},
     "output_type": "execute_result"
    }
   ],
   "source": [
    "text_list[9].get_title()"
   ]
  },
  {
   "cell_type": "code",
   "execution_count": 57,
   "metadata": {},
   "outputs": [
    {
     "data": {
      "text/plain": "'도지현'"
     },
     "execution_count": 57,
     "metadata": {},
     "output_type": "execute_result"
    }
   ],
   "source": [
    "text_list[9].get_author()"
   ]
  },
  {
   "cell_type": "code",
   "execution_count": 58,
   "metadata": {},
   "outputs": [
    {
     "data": {
      "text/plain": "'\\n\\t\\t\\t\\t가시고기 사랑 / 藝香 도지현\\r 주름투성이의 구릿빛 얼굴\\r그래도 무엇이 그리 좋은지\\r하회탈처럼 웃고 또 웃는다\\r 마디마다 불거진 커다란 손은\\r고목의 껍질에 갈퀴 같은데\\r지문마저 닳아 보이지 않지만\\r쉴 새 없이 움직이며 하루를 짓는다\\r 자식을 위해서라면\\r푸른 물속에서 입으로 품어\\r자신을 헌신하여 자라나면\\r온전한 성인으로 살게 하는\\r가시고기와 같은 사랑으로\\r 오늘도 아버지는 자식 생각에\\r살점이 하나하나 떨어져 나가도\\r그것을 스스로 최대의 기쁨이라 하며\\r집으로 향한 발길은 가볍기만 하다.\\t\\t\\t'"
     },
     "execution_count": 58,
     "metadata": {},
     "output_type": "execute_result"
    }
   ],
   "source": [
    "text_list[9].get_content()"
   ]
  },
  {
   "cell_type": "code",
   "execution_count": null,
   "metadata": {},
   "outputs": [],
   "source": []
  }
 ],
 "metadata": {
  "kernelspec": {
   "display_name": "Python 3.8.10 64-bit",
   "name": "python3810jvsc74a57bd0916dbcbb3f70747c44a77c7bcd40155683ae19c65e1c03b4aa3499c5328201f1"
  },
  "language_info": {
   "codemirror_mode": {
    "name": "ipython",
    "version": 3
   },
   "file_extension": ".py",
   "mimetype": "text/x-python",
   "name": "python",
   "nbconvert_exporter": "python",
   "pygments_lexer": "ipython3",
   "version": "3.8.10"
  },
  "metadata": {
   "interpreter": {
    "hash": "916dbcbb3f70747c44a77c7bcd40155683ae19c65e1c03b4aa3499c5328201f1"
   }
  },
  "orig_nbformat": 2
 },
 "nbformat": 4,
 "nbformat_minor": 2
}